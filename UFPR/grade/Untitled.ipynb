{
 "cells": [
  {
   "cell_type": "code",
   "execution_count": 3,
   "id": "8f9b13d7-d116-4df6-985d-6680571702a9",
   "metadata": {},
   "outputs": [
    {
     "name": "stdout",
     "output_type": "stream",
     "text": [
      "📊 Carregando dados...\n",
      "🎨 Gerando site profissional...\n",
      "✅ Site profissional gerado com sucesso!\n",
      "📁 Arquivo: index.html\n"
     ]
    },
    {
     "name": "stderr",
     "output_type": "stream",
     "text": [
      "C:\\Users\\Dell\\Dropbox\\Douglas\\3025 Site Dougfisica\\dougfisica.github.io\\UFPR\\grade\\site_generator_professional.py:24: FutureWarning: Downcasting object dtype arrays on .fillna, .ffill, .bfill is deprecated and will change in a future version. Call result.infer_objects(copy=False) instead. To opt-in to the future behavior, set `pd.set_option('future.no_silent_downcasting', True)`\n",
      "  .transform(lambda s: s.ffill().bfill()))\n"
     ]
    }
   ],
   "source": [
    "%run site_generator_professional.py"
   ]
  },
  {
   "cell_type": "code",
   "execution_count": null,
   "id": "e0d7bc80-b17e-4705-94a6-d8d58d6528bc",
   "metadata": {},
   "outputs": [],
   "source": []
  }
 ],
 "metadata": {
  "kernelspec": {
   "display_name": "Python 3 (ipykernel)",
   "language": "python",
   "name": "python3"
  },
  "language_info": {
   "codemirror_mode": {
    "name": "ipython",
    "version": 3
   },
   "file_extension": ".py",
   "mimetype": "text/x-python",
   "name": "python",
   "nbconvert_exporter": "python",
   "pygments_lexer": "ipython3",
   "version": "3.9.19"
  }
 },
 "nbformat": 4,
 "nbformat_minor": 5
}
